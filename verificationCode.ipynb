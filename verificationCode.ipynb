{
 "cells": [
  {
   "cell_type": "markdown",
   "metadata": {},
   "source": [
    "'''\n",
    "验证码\n",
    "'''"
   ]
  },
  {
   "cell_type": "code",
   "execution_count": 2,
   "metadata": {},
   "outputs": [
    {
     "data": {
      "image/png": "[encoded data removed]",
      "text/plain": [
       "<PIL.Image.Image image mode=RGB size=180x60 at 0x2BFF35BB198>"
      ]
     },
     "execution_count": 2,
     "metadata": {},
     "output_type": "execute_result"
    }
   ],
   "source": [
    "#方法一：Pillow\n",
    "\n",
    "from PIL import Image,ImageDraw,ImageFont,ImageFilter\n",
    "import random,string\n",
    "\n",
    "#获取四个随机字符\n",
    "def getRandomChar():\n",
    "    chr_all=string.ascii_letters + string.digits\n",
    "    chr_4=''.join(random.sample(chr_all,4))\n",
    "    \n",
    "    return chr_4\n",
    "\n",
    "\n",
    "#获取随机背景颜色\n",
    "def getRandromColor(low,high):\n",
    "    R=random.randint(low,high)\n",
    "    G=random.randint(low,high)\n",
    "    B=random.randint(low,high)\n",
    "    \n",
    "    return R,G,B\n",
    "\n",
    "\n",
    "#制作验证码图片\n",
    "def getPicture():\n",
    "    width,height=180,60 #图片宽、高\n",
    "    image=Image.new(\"RGB\",(width,height),getRandromColor(20,100)) #空白画布\n",
    "    font=ImageFont.truetype('C:/Windows/fonts/stxinwei.ttf',40) #设置字体\n",
    "    draw=ImageDraw.Draw(image) #画笔\n",
    "    char_4=getRandomChar() #四个字符\n",
    "    \n",
    "    #将字符写到空白画布上\n",
    "    for i in range(4):\n",
    "        draw.text((40*i+10,0),char_4[i],font=font,fill=getRandromColor(100,200))\n",
    "    \n",
    "    #绘制干扰点\n",
    "    for x in range(random.randint(200,600)):\n",
    "        x=random.randint(1,width-1)\n",
    "        y=random.randint(1,height-1)\n",
    "        draw.point((x,y),fill=getRandromColor(50,150))\n",
    "        \n",
    "    #模糊处理\n",
    "    image=image.filter(ImageFilter.BLUR)\n",
    "#     image.save('./%s.jpg' % char_4)\n",
    "    return image\n",
    "\n",
    "getPicture() #显示图片"
   ]
  },
  {
   "cell_type": "code",
   "execution_count": 3,
   "metadata": {},
   "outputs": [
    {
     "data": {
      "image/png": "[encoded data removed]",
      "text/plain": [
       "<PIL.Image.Image image mode=RGB size=160x60 at 0x2BFF61C3A20>"
      ]
     },
     "execution_count": 3,
     "metadata": {},
     "output_type": "execute_result"
    }
   ],
   "source": [
    "#方法二：captcha\n",
    "\n",
    "from captcha.image import  ImageCaptcha\n",
    "import random,string\n",
    "\n",
    "chr_all=string.ascii_letters + string.digits\n",
    "chr_4=''.join(random.sample(chr_all,4))\n",
    "image=ImageCaptcha().generate_image(chr_4)\n",
    "# image.save('./%s.jpg' % chr_4)\n",
    "\n",
    "image #显示图片"
   ]
  },
  {
   "cell_type": "code",
   "execution_count": 4,
   "metadata": {},
   "outputs": [
    {
     "data": {
      "image/png": "[encoded data removed]",
      "text/plain": [
       "<PIL.Image.Image image mode=RGB size=120x30 at 0x2BFF61F94E0>"
      ]
     },
     "execution_count": 4,
     "metadata": {},
     "output_type": "execute_result"
    }
   ],
   "source": [
    "# 方法三：gvcode\n",
    "\n",
    "import gvcode\n",
    "\n",
    "s,v=gvcode.generate() #s是验证码图片，v是四个字符\n",
    "# s.save('./%s.jpg' % v)\n",
    "\n",
    "s #显示图片"
   ]
  }
 ],
 "metadata": {
  "kernelspec": {
   "display_name": "Python 3",
   "language": "python",
   "name": "python3"
  },
  "language_info": {
   "codemirror_mode": {
    "name": "ipython",
    "version": 3
   },
   "file_extension": ".py",
   "mimetype": "text/x-python",
   "name": "python",
   "nbconvert_exporter": "python",
   "pygments_lexer": "ipython3",
   "version": "3.6.2"
  }
 },
 "nbformat": 4,
 "nbformat_minor": 2
}
